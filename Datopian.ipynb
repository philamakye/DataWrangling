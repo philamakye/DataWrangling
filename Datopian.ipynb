{
  "nbformat": 4,
  "nbformat_minor": 2,
  "metadata": {
    "orig_nbformat": 4,
    "language_info": {
      "name": "python",
      "version": "3.9.5",
      "mimetype": "text/x-python",
      "codemirror_mode": {
        "name": "ipython",
        "version": 3
      },
      "pygments_lexer": "ipython3",
      "nbconvert_exporter": "python",
      "file_extension": ".py"
    },
    "kernelspec": {
      "name": "python3",
      "display_name": "Python 3.9.5 64-bit"
    },
    "interpreter": {
      "hash": "109acaacd7d445fa13c77da6b4d6cf4897e6edab0bb36cbc513d1c156b238de6"
    },
    "colab": {
      "name": "Datopian.ipynb",
      "provenance": [],
      "collapsed_sections": [
        "GEqIXLNDnbVF",
        "rf3fCeR9nbVG",
        "hpcR_0bNnbVH",
        "PqDuHI6YnbVI"
      ]
    }
  },
  "cells": [
    {
      "cell_type": "markdown",
      "source": [
        "<h1>Table of Contents<span class=\"tocSkip\"></span></h1>\r\n",
        "<div class=\"toc\"><ul class=\"toc-item\"><li><span><a href=\"#URLs\" data-toc-modified-id=\"URLs-1\"><span class=\"toc-item-num\">1&nbsp;&nbsp;</span>URL</a></span></li><li><span><a href=\"#Request-&amp;-Response\" data-toc-modified-id=\"Request-&amp;-Response-2\"><span class=\"toc-item-num\">2&nbsp;&nbsp;</span>Request &amp; Response</a></span></li><li><span><a href=\"#Wrangling-HTML-With-BeautifulSoup\" data-toc-modified-id=\"Wrangling-HTML-With-BeautifulSoup-3\"><span class=\"toc-item-num\">3&nbsp;&nbsp;</span>Wrangling HTML With BeautifulSoup</a></span></li><li><span><a href=\"#Title-of-HTML-content\" data-toc-modified-id=\"Title-of-HTML-content-4\"><span class=\"toc-item-num\">4&nbsp;&nbsp;</span>Title of HTML content</a></span></li><li><span><a href=\"#Extracting-data-from-html\" data-toc-modified-id=\"Extracting-data-from-html\"><span class=\"toc-item-num\">5&nbsp;&nbsp;</span>Extracting data from html</a></span></li><li><span><a href=\"#CSV-with-specified-columns\" data-toc-modified-id=\"CSV-with-specified-columns\"><span class=\"toc-item-num\">6&nbsp;&nbsp;</span>CSV with specified columns</a></span></li><li><span><a href=\"#CSV-with-sorted \" data-toc-modified-id=\"#CSV-with-sorted \"><span class=\"toc-item-num\">7&nbsp;&nbsp;</span>CSV with sorted 'Road death per million inhabitants in 2018'</a></span></li>"
      ],
      "metadata": {
        "id": "VzmxEgv3nbU_"
      }
    },
    {
      "cell_type": "code",
      "execution_count": null,
      "source": [
        "# for performing your HTTP requests\r\n",
        "import requests  \r\n",
        "\r\n",
        "# for xml & html scrapping \r\n",
        "from bs4 import BeautifulSoup \r\n",
        "\r\n",
        "# for table analysis\r\n",
        "import pandas as pd\r\n",
        "\r\n",
        "# write to csv\r\n",
        "import csv\r\n",
        "\r\n",
        "# Time\r\n",
        "import time\r\n",
        "\r\n",
        "#Visuals\r\n",
        "import matplotlib.pyplot as plt"
      ],
      "outputs": [],
      "metadata": {
        "id": "Zq37QZ1knbVE"
      }
    },
    {
      "cell_type": "markdown",
      "source": [
        "## URL"
      ],
      "metadata": {
        "id": "GEqIXLNDnbVF"
      }
    },
    {
      "cell_type": "code",
      "execution_count": 185,
      "source": [
        "# url of wikipedia page from which you want to scrap tabular data.\r\n",
        "url1 = \"https://en.wikipedia.org/wiki/Road_safety_in_Europe\""
      ],
      "outputs": [],
      "metadata": {
        "id": "PB80do5snbVF"
      }
    },
    {
      "cell_type": "markdown",
      "source": [
        "## Request and Response"
      ],
      "metadata": {
        "id": "rf3fCeR9nbVG"
      }
    },
    {
      "cell_type": "code",
      "execution_count": 186,
      "source": [
        "# Session helps to object allows you to persist certain parameters across requests\r\n",
        "# By default, Request will keep waiting for a response indefinitely. Therefore, it is advised to set the timeout parameter.\r\n",
        "# If the request was successful, you should see the reponse output as '200'.\r\n",
        "s = requests.Session()\r\n",
        "response = s.get(url1, timeout=10)\r\n",
        "#response2 = s.get(url2, timeout=5)\r\n",
        "response\r\n"
      ],
      "outputs": [
        {
          "output_type": "execute_result",
          "data": {
            "text/plain": [
              "<Response [200]>"
            ]
          },
          "metadata": {
            "tags": []
          },
          "execution_count": 186
        }
      ],
      "metadata": {
        "colab": {
          "base_uri": "https://localhost:8080/"
        },
        "id": "vENl74UBnbVG",
        "outputId": "b2d0c7a2-5cef-493c-da01-db69638fa058"
      }
    },
    {
      "cell_type": "markdown",
      "source": [
        "## Wrangling HTML with Beautiful Soup\n"
      ],
      "metadata": {
        "id": "hpcR_0bNnbVH"
      }
    },
    {
      "cell_type": "code",
      "execution_count": 187,
      "source": [
        "# parse response content to html\r\n",
        "soup = BeautifulSoup(response.content, 'html.parser')\r\n",
        "\r\n",
        "# to view the content in html format\r\n",
        "pretty_soup = soup.prettify()"
      ],
      "outputs": [],
      "metadata": {
        "id": "FyEmrBYynbVH"
      }
    },
    {
      "cell_type": "markdown",
      "source": [
        "## Title of HTML content\n"
      ],
      "metadata": {
        "id": "PqDuHI6YnbVI"
      }
    },
    {
      "cell_type": "code",
      "execution_count": 188,
      "source": [
        "# title of Wikipedia page\r\n",
        "soup.title.string\r\n",
        "\r\n",
        "right_table=soup.find('table', {\"class\":'wikitable sortable'})"
      ],
      "outputs": [],
      "metadata": {
        "id": "Cjoxip8rnbVI"
      }
    },
    {
      "cell_type": "markdown",
      "source": [
        "## Extracting data from html"
      ],
      "metadata": {}
    },
    {
      "cell_type": "code",
      "execution_count": null,
      "source": [
        "filename = 'road_safety_facts_and_figures.csv'\r\n",
        "f = open(filename,'w')\r\n",
        "csv_writer = csv.writer(f)\r\n",
        "\r\n",
        "\r\n",
        "for tr in right_table.find_all('tr'):\r\n",
        "    header = []\r\n",
        "    data = []\r\n",
        "\r\n",
        "\r\n",
        "    for th in tr.find_all('th'):\r\n",
        "        header.append(th.text.strip())\r\n",
        "        \r\n",
        "    if header:\r\n",
        "        csv_writer.writerow(header)\r\n",
        "        \r\n",
        "    for td in tr.find_all('td'):\r\n",
        "      data.append(td.text.strip())\r\n",
        "        \r\n",
        "    if data:\r\n",
        "      csv_writer.writerow(data)\r\n",
        "csv_writer      \r\n",
        "f.close()  \r\n"
      ],
      "outputs": [],
      "metadata": {
        "colab": {
          "base_uri": "https://localhost:8080/"
        },
        "id": "7B_wAdmH9DSj",
        "outputId": "1e4c6bba-95ab-4ed5-b836-ad83a6213f4e"
      }
    },
    {
      "cell_type": "markdown",
      "source": [
        "## CSV with specified columns"
      ],
      "metadata": {}
    },
    {
      "cell_type": "code",
      "execution_count": null,
      "source": [
        "# read_csv function which is used to read the required CSV file\r\n",
        "data = pd.read_csv('road_safety_facts_and_figures.csv')\r\n",
        "\r\n",
        "  \r\n",
        "# del function which is used in removing or deleting rows or columns from the CSV files\r\n",
        "del data['Number of Seriously Injured in 2017/2018[30]']\r\n",
        "del data['Number of People Killed\\n'+'per Billion km[30]']\r\n",
        "data.to_csv('road_safety_facts_and_figures.csv', index=False, na_rep='Unknown')\r\n",
        "  \r\n",
        "# display\r\n",
        "print (\"CSV with specified columns\")\r\n",
        "print (data)"
      ],
      "outputs": [],
      "metadata": {}
    },
    {
      "cell_type": "markdown",
      "source": [
        "## CSV with sorted 'Road deaths per Million Inhabitants in 2018' "
      ],
      "metadata": {
        "id": "yGDyuH31nbVK"
      }
    },
    {
      "cell_type": "code",
      "execution_count": 301,
      "source": [
        "sorted_data = data.sort_values(by=[\"Road deaths\\n\"+\"per Million Inhabitants in 2018[30]\"], ascending=True)\r\n",
        "sorted_data.to_csv('road_safety_facts_and_figures.csv', index=False, na_rep='Unknown')\r\n",
        "print (\"CSV with sorted 'Road deaths per Million Inhabitants in 2018'\\n\")\r\n",
        "print (sorted_data)"
      ],
      "outputs": [
        {
          "output_type": "stream",
          "name": "stdout",
          "text": [
            "CSV with sorted 'Road deaths per Million Inhabitants in 2018'\n",
            "\n",
            "           Country  ... Road deaths\\nper Million Inhabitants in 2018[30]\n",
            "27  United Kingdom  ...                                               28\n",
            "6          Denmark  ...                                               30\n",
            "19     Netherlands  ...                                               31\n",
            "13         Ireland  ...                                               31\n",
            "26          Sweden  ...                                               32\n",
            "18           Malta  ...                                               38\n",
            "25           Spain  ...                                               39\n",
            "10         Germany  ...                                               39\n",
            "8          Finland  ...                                               43\n",
            "24        Slovenia  ...                                               44\n",
            "0          Austria  ...                                               45\n",
            "23        Slovakia  ...                                               46\n",
            "9           France  ...                                               48\n",
            "28     EU 28 Total  ...                                               49\n",
            "7          Estonia  ...                                               51\n",
            "1          Belgium  ...                                               52\n",
            "14           Italy  ...                                               55\n",
            "4           Cyprus  ...                                               57\n",
            "21        Portugal  ...                                               59\n",
            "17      Luxembourg  ...                                               60\n",
            "16       Lithuania  ...                                               61\n",
            "5          Czechia  ...                                               62\n",
            "11          Greece  ...                                               64\n",
            "12         Hungary  ...                                               64\n",
            "20          Poland  ...                                               76\n",
            "3          Croatia  ...                                               77\n",
            "15          Latvia  ...                                               78\n",
            "2         Bulgaria  ...                                               88\n",
            "22         Romania  ...                                               96\n",
            "\n",
            "[29 rows x 9 columns]\n"
          ]
        }
      ],
      "metadata": {
        "colab": {
          "base_uri": "https://localhost:8080/"
        },
        "id": "twBhLEKM8iDM",
        "outputId": "988609d6-8598-45d7-ecdf-df6b8e2fe859"
      }
    },
    {
      "cell_type": "markdown",
      "source": [],
      "metadata": {
        "id": "al2Qg-UcQRtm"
      }
    }
  ]
}